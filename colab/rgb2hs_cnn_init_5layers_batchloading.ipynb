{
 "cells": [
  {
   "cell_type": "code",
   "execution_count": 1,
   "metadata": {
    "colab": {
     "base_uri": "https://localhost:8080/",
     "height": 121
    },
    "colab_type": "code",
    "id": "_lgePVfXS4PQ",
    "outputId": "b3416804-5d16-4771-928b-b80229af180b"
   },
   "outputs": [
    {
     "name": "stdout",
     "output_type": "stream",
     "text": [
      "Go to this URL in a browser: https://accounts.google.com/o/oauth2/auth?client_id=947318989803-6bn6qk8qdgf4n4g3pfee6491hc0brc4i.apps.googleusercontent.com&redirect_uri=urn%3aietf%3awg%3aoauth%3a2.0%3aoob&response_type=code&scope=email%20https%3a%2f%2fwww.googleapis.com%2fauth%2fdocs.test%20https%3a%2f%2fwww.googleapis.com%2fauth%2fdrive%20https%3a%2f%2fwww.googleapis.com%2fauth%2fdrive.photos.readonly%20https%3a%2f%2fwww.googleapis.com%2fauth%2fpeopleapi.readonly\n",
      "\n",
      "Enter your authorization code:\n",
      "··········\n",
      "Mounted at /content/gdrive\n"
     ]
    }
   ],
   "source": [
    "from google.colab import drive\n",
    "drive.mount('/content/gdrive', force_remount=True)"
   ]
  },
  {
   "cell_type": "code",
   "execution_count": 2,
   "metadata": {
    "colab": {
     "base_uri": "https://localhost:8080/",
     "height": 34
    },
    "colab_type": "code",
    "id": "7NoNHnY9ZMyr",
    "outputId": "35a3fe3d-407c-4cc5-f650-e680def87af3"
   },
   "outputs": [
    {
     "name": "stderr",
     "output_type": "stream",
     "text": [
      "Using TensorFlow backend.\n"
     ]
    }
   ],
   "source": [
    "#imports\n",
    "import os\n",
    "import glob\n",
    "import random\n",
    "from scipy.io import loadmat\n",
    "import numpy as np\n",
    "import cv2\n",
    "\n",
    "import keras\n",
    "from keras.layers import (Input,Activation, Conv2D, Dropout, Convolution2D,UpSampling2D)\n",
    "from keras.layers import (Activation, Conv3D, Dense, Dropout, Flatten,Conv2DTranspose,\n",
    "                  Add,MaxPooling2D,MaxPooling3D, Input, Concatenate,BatchNormalization)\n",
    "from keras.layers.advanced_activations import LeakyReLU\n",
    "from keras.losses import mean_absolute_error\n",
    "from keras.models import Sequential,load_model,Model\n",
    "from keras.optimizers import Adam\n",
    "import os, math\n",
    "import matplotlib\n",
    "import matplotlib.pyplot as plt\n",
    "\n",
    "import tensorflow as tf\n"
   ]
  },
  {
   "cell_type": "code",
   "execution_count": 3,
   "metadata": {
    "colab": {
     "base_uri": "https://localhost:8080/",
     "height": 50
    },
    "colab_type": "code",
    "id": "Edne5tWqyBKs",
    "outputId": "f5332d89-891f-472e-f690-779e35b9e0c5"
   },
   "outputs": [
    {
     "name": "stdout",
     "output_type": "stream",
     "text": [
      "number of hyperspectral imgs: 230\n",
      "number of rgb images: 230\n"
     ]
    }
   ],
   "source": [
    "#data paths\n",
    "\n",
    "driveroot=\"/content/gdrive/My Drive\"\n",
    "\n",
    "rgbdir=\"/content/gdrive/My Drive/NTIRE2020_Clean\"\n",
    "hsdir=\"/content/gdrive/My Drive/NTIRE2020\"\n",
    "\n",
    "hpath=hsdir+'/ARAD_HS_*.mat'\n",
    "rpath_clean=rgbdir+'/ARAD_HS_*_clean.png'\n",
    "# print(rgbdir,hsdir,hpath,rpath_clean)\n",
    "\n",
    "num_samples=230#number of files to load\n",
    "\n",
    "hlist=glob.glob(hpath)[0:num_samples]\n",
    "rgblist=glob.glob(rpath_clean)[0:num_samples]\n",
    "print(\"number of hyperspectral imgs:\",len(hlist))\n",
    "print(\"number of rgb images:\",len(rgblist))"
   ]
  },
  {
   "cell_type": "code",
   "execution_count": 11,
   "metadata": {
    "colab": {
     "base_uri": "https://localhost:8080/",
     "height": 34
    },
    "colab_type": "code",
    "id": "zb7Hco150cnc",
    "outputId": "fd9d55ca-e284-482d-bc49-33cbb3af84cb"
   },
   "outputs": [
    {
     "name": "stdout",
     "output_type": "stream",
     "text": [
      "Validation set: (10, 482, 512, 31) (10, 482, 512, 3)\n"
     ]
    }
   ],
   "source": [
    "#validation sets\n",
    "Y_val=np.load(driveroot+\"/Colab Notebooks/RGB2Hyperspectral group 45 cnn/ntire2020_hs_validationset_10.npy\")\n",
    "X_val=np.load(driveroot+\"/Colab Notebooks/RGB2Hyperspectral group 45 cnn/ntire2020_rgbclean_validationset_10.npy\")\n",
    "print(\"Validation set:\",hs_val.shape, rgbclean_val.shape)"
   ]
  },
  {
   "cell_type": "code",
   "execution_count": 0,
   "metadata": {
    "colab": {},
    "colab_type": "code",
    "id": "NZ4g0LHpFXxr"
   },
   "outputs": [],
   "source": [
    "#model params\n",
    "epochs=5\n",
    "batch_size=8\n",
    "lr=0.0001\n",
    "\n",
    "initial_epoch=0\n",
    "\n",
    "model_save_dir=\"/content/gdrive/My Drive/Colab Notebooks/RGB2Hyperspectral group 45 cnn/models\"\n",
    "model_name=\"cnn_init_5n\"\n",
    "version=2"
   ]
  },
  {
   "cell_type": "code",
   "execution_count": 6,
   "metadata": {
    "colab": {
     "base_uri": "https://localhost:8080/",
     "height": 34
    },
    "colab_type": "code",
    "id": "EZMFV2EryHRX",
    "outputId": "26950f08-062e-47c0-b24d-6024f2df30e7"
   },
   "outputs": [
    {
     "data": {
      "text/plain": [
       "(5, 482, 512, 31)"
      ]
     },
     "execution_count": 6,
     "metadata": {
      "tags": []
     },
     "output_type": "execute_result"
    }
   ],
   "source": [
    "def load_batch_hyper(filelist):\n",
    "    final_numpyData=np.array(0)\n",
    "    for i in range(len(filelist)):\n",
    "        x=loadmat(filelist[i])\n",
    "        matimg=x['cube']\n",
    "        final_numpyData=matimg if i==0 else np.stack([final_numpyData,matimg]) if i==1 else np.concatenate([final_numpyData,np.expand_dims(matimg, axis=0)])\n",
    "    return final_numpyData\n",
    "\n",
    "y=load_batch_hyper(hlist[5:10])\n",
    "y.shape"
   ]
  },
  {
   "cell_type": "code",
   "execution_count": 7,
   "metadata": {
    "colab": {
     "base_uri": "https://localhost:8080/",
     "height": 34
    },
    "colab_type": "code",
    "id": "hjYPQ-2N1-8N",
    "outputId": "af7782b3-08c6-45fd-e0da-28565d0fcf5a"
   },
   "outputs": [
    {
     "data": {
      "text/plain": [
       "(5, 482, 512, 3)"
      ]
     },
     "execution_count": 7,
     "metadata": {
      "tags": []
     },
     "output_type": "execute_result"
    }
   ],
   "source": [
    "def load_batch_rgb(filelist):\n",
    "    final_numpyData=np.array(0)\n",
    "    for i in range(len(filelist)):\n",
    "        matimg = cv2.imread(filelist[i])\n",
    "        final_numpyData=matimg if i==0 else np.stack([final_numpyData,matimg]) if i==1 else np.concatenate([final_numpyData,np.expand_dims(matimg, axis=0)])\n",
    "    return final_numpyData\n",
    "x=load_batch_rgb(rgblist[5:10])\n",
    "x.shape"
   ]
  },
  {
   "cell_type": "code",
   "execution_count": 0,
   "metadata": {
    "colab": {},
    "colab_type": "code",
    "id": "cnock8gS1qju"
   },
   "outputs": [],
   "source": [
    "def imageLoader(files_x,files_y, batch_size):\n",
    "    L = len(files_x)\n",
    "    while True:\n",
    "\n",
    "        batch_start = 0\n",
    "        batch_end = batch_size\n",
    "\n",
    "        while batch_start < L:\n",
    "            limit = min(batch_end, L)\n",
    "            X = load_batch_rgb(files_x[batch_start:limit])\n",
    "            Y = load_batch_hyper(files_y[batch_start:limit])\n",
    "\n",
    "            yield (X,Y) #a tuple with two numpy arrays with batch_size samples     \n",
    "\n",
    "            batch_start += batch_size   \n",
    "            batch_end += batch_size"
   ]
  },
  {
   "cell_type": "code",
   "execution_count": 0,
   "metadata": {
    "colab": {
     "base_uri": "https://localhost:8080/",
     "height": 50
    },
    "colab_type": "code",
    "id": "5pYT9GeScw61",
    "outputId": "ac1513aa-c738-4239-b68f-d9d38155f0ec"
   },
   "outputs": [
    {
     "name": "stdout",
     "output_type": "stream",
     "text": [
      "Training data and Ground truth shape................. (40, 482, 512, 3) (40, 482, 512, 31)\n",
      "Validation Split Completed........................... (10, 482, 512, 3) (10, 482, 512, 31)\n"
     ]
    }
   ],
   "source": [
    "# from sklearn.model_selection import train_test_split\n",
    "# X_data,Y_data=rgb_numpyData,final_numpyData\n",
    "# X_train,  X_val, Y_train, Y_val = train_test_split(X_data, Y_data, test_size=0.2)\t\t\n",
    "\n",
    "# print(\"Training data and Ground truth shape.................\",X_train.shape,Y_train.shape)\n",
    "# print('Validation Split Completed...........................', X_val.shape, Y_val.shape)"
   ]
  },
  {
   "cell_type": "code",
   "execution_count": 0,
   "metadata": {
    "colab": {},
    "colab_type": "code",
    "id": "pWHnVyeHc-sm"
   },
   "outputs": [],
   "source": [
    "class model_rgb2hs():\n",
    "\n",
    "    def __init__(self, image_size):\n",
    "        self.image_size = image_size\n",
    "\n",
    "    def Cnn(self):\n",
    "        inp = Input((None, None,3))\n",
    "        C1 = Conv2D(64, kernel_size=(3,3), padding='same', activation='relu')(inp)\n",
    "        C2 = Conv2D(64, kernel_size=(3,3), padding='same', activation='relu')(C1) \n",
    "        C3 = Conv2D(64, kernel_size=(3,3), padding='same', activation='relu')(C2) \n",
    "        C4 = Conv2D(64, kernel_size=(3,3), padding='same', activation='relu')(C3)\n",
    "        Cout = Conv2D(31, kernel_size=(3,3), padding='same', activation='relu')(C4)\n",
    "        model = Model(inp, Cout)\n",
    "        return model\n"
   ]
  },
  {
   "cell_type": "code",
   "execution_count": 0,
   "metadata": {
    "colab": {},
    "colab_type": "code",
    "id": "1q3ZIVniHzGt"
   },
   "outputs": [],
   "source": [
    "m=model_rgb2hs(246784)\n",
    "model=m.Cnn()"
   ]
  },
  {
   "cell_type": "code",
   "execution_count": 0,
   "metadata": {
    "colab": {
     "base_uri": "https://localhost:8080/",
     "height": 185
    },
    "colab_type": "code",
    "id": "OyFfFNk-BkdL",
    "outputId": "0627d846-1f00-46a1-e2d2-61daf44f8dd2"
   },
   "outputs": [
    {
     "name": "stdout",
     "output_type": "stream",
     "text": [
      "Epoch 1/5\n",
      "50/50 [==============================] - 417s 8s/step - loss: 0.1896 - mae: 0.1896 - mse: 0.2208\n",
      "Epoch 2/5\n",
      "50/50 [==============================] - 355s 7s/step - loss: 0.1302 - mae: 0.1302 - mse: 0.0419\n",
      "Epoch 3/5\n",
      "50/50 [==============================] - 321s 6s/step - loss: 0.1200 - mae: 0.1200 - mse: 0.0371\n",
      "Epoch 4/5\n",
      "50/50 [==============================] - 342s 7s/step - loss: 0.1068 - mae: 0.1068 - mse: 0.0314\n",
      "Epoch 5/5\n",
      "50/50 [==============================] - 335s 7s/step - loss: 0.0936 - mae: 0.0936 - mse: 0.0264\n"
     ]
    }
   ],
   "source": [
    "model.compile(loss='mean_absolute_error', optimizer=Adam(lr=lr), metrics=['mae','mse'])\n",
    "checkpoint = keras.callbacks.ModelCheckpoint(model_save_dir+'/model_'+str(model_name)+'_'+str(version)+'_{epoch:02d}-{loss:.4f}.h5',monitor='loss',verbose=0, save_best_only=True, save_weights_only=False, mode='auto', period=50)\n",
    "csv_logger = keras.callbacks.CSVLogger(model_save_dir + \"/tr_-v\"+str(version)+\".csv\", separator=',', append=True)\n",
    "\n",
    "history=model.fit_generator(imageLoader(rgblist,hlist,batch_size), validation_data=(X_val, Y_val), steps_per_epoch=math.ceil(num_samples/batch_size), epochs=epochs,verbose=1,callbacks=[checkpoint, csv_logger], shuffle=True)\n",
    "# history = model.fit(x=X_data, y=Y_data, batch_size=batch_size, epochs=epochs, verbose=1, initial_epoch=initial_epoch,\n",
    " \t\t\t\t\t# validation_split=0.2,callbacks=[checkpoint, csv_logger], shuffle=False)\n",
    "# history = model.fit(x=X_data, y=Y_data, batch_size=batch_size, epochs=epochs, verbose=1, validation_split=0.2, \n",
    "                            # validation_data=(X_val, Y_val), shuffle=True)"
   ]
  },
  {
   "cell_type": "code",
   "execution_count": 0,
   "metadata": {
    "colab": {
     "base_uri": "https://localhost:8080/",
     "height": 477
    },
    "colab_type": "code",
    "id": "-UGKR_MsDwfZ",
    "outputId": "59f1b950-fcc3-4c9b-c3fd-248e41e1fb27"
   },
   "outputs": [
    {
     "ename": "KeyError",
     "evalue": "ignored",
     "output_type": "error",
     "traceback": [
      "\u001b[0;31m---------------------------------------------------------------------------\u001b[0m",
      "\u001b[0;31mKeyError\u001b[0m                                  Traceback (most recent call last)",
      "\u001b[0;32m<ipython-input-27-dbb73764c088>\u001b[0m in \u001b[0;36m<module>\u001b[0;34m()\u001b[0m\n\u001b[1;32m      2\u001b[0m \u001b[0;32mimport\u001b[0m \u001b[0mmatplotlib\u001b[0m\u001b[0;34m.\u001b[0m\u001b[0mpyplot\u001b[0m \u001b[0;32mas\u001b[0m \u001b[0mplt\u001b[0m\u001b[0;34m\u001b[0m\u001b[0;34m\u001b[0m\u001b[0m\n\u001b[1;32m      3\u001b[0m \u001b[0mplt\u001b[0m\u001b[0;34m.\u001b[0m\u001b[0mplot\u001b[0m\u001b[0;34m(\u001b[0m\u001b[0mhistory\u001b[0m\u001b[0;34m.\u001b[0m\u001b[0mhistory\u001b[0m\u001b[0;34m[\u001b[0m\u001b[0;34m'loss'\u001b[0m\u001b[0;34m]\u001b[0m\u001b[0;34m,\u001b[0m \u001b[0;34m'b'\u001b[0m\u001b[0;34m,\u001b[0m \u001b[0mlabel\u001b[0m\u001b[0;34m=\u001b[0m\u001b[0;34m'Training loss'\u001b[0m\u001b[0;34m)\u001b[0m\u001b[0;34m\u001b[0m\u001b[0;34m\u001b[0m\u001b[0m\n\u001b[0;32m----> 4\u001b[0;31m \u001b[0mplt\u001b[0m\u001b[0;34m.\u001b[0m\u001b[0mplot\u001b[0m\u001b[0;34m(\u001b[0m\u001b[0mhistory\u001b[0m\u001b[0;34m.\u001b[0m\u001b[0mhistory\u001b[0m\u001b[0;34m[\u001b[0m\u001b[0;34m'val_loss'\u001b[0m\u001b[0;34m]\u001b[0m\u001b[0;34m,\u001b[0m \u001b[0;34m'r'\u001b[0m\u001b[0;34m,\u001b[0m \u001b[0mlabel\u001b[0m\u001b[0;34m=\u001b[0m\u001b[0;34m'Validation loss'\u001b[0m\u001b[0;34m)\u001b[0m\u001b[0;34m\u001b[0m\u001b[0;34m\u001b[0m\u001b[0m\n\u001b[0m\u001b[1;32m      5\u001b[0m \u001b[0mplt\u001b[0m\u001b[0;34m.\u001b[0m\u001b[0mtitle\u001b[0m\u001b[0;34m(\u001b[0m\u001b[0;34m'Training and Validation Loss -v'\u001b[0m\u001b[0;34m+\u001b[0m\u001b[0mstr\u001b[0m\u001b[0;34m(\u001b[0m\u001b[0mmodel_name\u001b[0m\u001b[0;34m)\u001b[0m\u001b[0;34m+\u001b[0m\u001b[0mstr\u001b[0m\u001b[0;34m(\u001b[0m\u001b[0mversion\u001b[0m\u001b[0;34m)\u001b[0m\u001b[0;34m)\u001b[0m\u001b[0;34m\u001b[0m\u001b[0;34m\u001b[0m\u001b[0m\n\u001b[1;32m      6\u001b[0m \u001b[0mplt\u001b[0m\u001b[0;34m.\u001b[0m\u001b[0mlegend\u001b[0m\u001b[0;34m(\u001b[0m\u001b[0;34m)\u001b[0m\u001b[0;34m\u001b[0m\u001b[0;34m\u001b[0m\u001b[0m\n",
      "\u001b[0;31mKeyError\u001b[0m: 'val_loss'"
     ]
    },
    {
     "data": {
      "image/png": "[encoded data removed]",
      "text/plain": [
       "<Figure size 432x288 with 1 Axes>"
      ]
     },
     "metadata": {
      "needs_background": "light",
      "tags": []
     },
     "output_type": "display_data"
    }
   ],
   "source": [
    "plt.plot(history.history['loss'], 'b', label='Training loss')\n",
    "plt.plot(history.history['val_loss'], 'r', label='Validation loss')\n",
    "plt.title('Training and Validation Loss -v'+str(model_name)+str(version))\n",
    "plt.legend()\n",
    "plt.savefig(os.path.join(model_save_dir, str(model_name)+'_train_loss_'+str(version)+'_'+str(epochs)+'.png')) \n",
    "# plt.show()"
   ]
  },
  {
   "cell_type": "code",
   "execution_count": 0,
   "metadata": {
    "colab": {
     "base_uri": "https://localhost:8080/",
     "height": 134
    },
    "colab_type": "code",
    "id": "BCD9ysViHgld",
    "outputId": "6a490479-e855-4092-d370-ee1858fa130d"
   },
   "outputs": [
    {
     "data": {
      "text/plain": [
       "{'loss': [0.18956342086195946,\n",
       "  0.1301517301052809,\n",
       "  0.1199754723161459,\n",
       "  0.10676745161414146,\n",
       "  0.09356733251363039],\n",
       " 'mae': [0.18956344, 0.1301517, 0.11997546, 0.10676745, 0.09356735],\n",
       " 'mse': [0.2208377, 0.04187173, 0.037075207, 0.03140204, 0.026385715]}"
      ]
     },
     "execution_count": 26,
     "metadata": {
      "tags": []
     },
     "output_type": "execute_result"
    }
   ],
   "source": [
    "history.history"
   ]
  },
  {
   "cell_type": "code",
   "execution_count": 0,
   "metadata": {
    "colab": {
     "base_uri": "https://localhost:8080/",
     "height": 34
    },
    "colab_type": "code",
    "id": "ymutWxLWJeBl",
    "outputId": "152ab3eb-f9c0-45c0-d1c6-88bb316baf19"
   },
   "outputs": [
    {
     "name": "stdout",
     "output_type": "stream",
     "text": [
      "Saved model to disk\n"
     ]
    }
   ],
   "source": [
    "model_json = model.to_json()\n",
    "with open(model_save_dir+'/model_'+str(model_name)+'_'+str(version)+'_'+str(epochs)+'.json', \"w+\") as json_file:\n",
    "    json_file.write(model_json)\n",
    "# serialize weights to HDF5\n",
    "model.save_weights(model_save_dir+'/model_'+str(model_name)+'_'+str(version)+'_'+str(epochs)+'.h5')\n",
    "print(\"Saved model to disk\")"
   ]
  },
  {
   "cell_type": "code",
   "execution_count": 0,
   "metadata": {
    "colab": {
     "base_uri": "https://localhost:8080/",
     "height": 34
    },
    "colab_type": "code",
    "id": "j5rRmTIXLWBq",
    "outputId": "b073e2e2-3b7c-4290-a3c0-b998373d7e6e"
   },
   "outputs": [
    {
     "data": {
      "text/plain": [
       "(1, 482, 512, 31)"
      ]
     },
     "execution_count": 45,
     "metadata": {
      "tags": []
     },
     "output_type": "execute_result"
    }
   ],
   "source": [
    "sample_x,sample_y=X_val[0],Y_val[0]\n",
    "y_pred=model.predict(np.expand_dims(sample_x,axis=0))\n",
    "y_pred.shape"
   ]
  },
  {
   "cell_type": "code",
   "execution_count": 0,
   "metadata": {
    "colab": {
     "base_uri": "https://localhost:8080/",
     "height": 34
    },
    "colab_type": "code",
    "id": "R4rqeZthNVTR",
    "outputId": "d821134e-dc11-4260-d323-7409650dc460"
   },
   "outputs": [
    {
     "data": {
      "text/plain": [
       "(482, 512, 31)"
      ]
     },
     "execution_count": 47,
     "metadata": {
      "tags": []
     },
     "output_type": "execute_result"
    }
   ],
   "source": [
    "sample_y.shape"
   ]
  },
  {
   "cell_type": "code",
   "execution_count": 0,
   "metadata": {
    "colab": {
     "base_uri": "https://localhost:8080/",
     "height": 34
    },
    "colab_type": "code",
    "id": "Yg-GgCpUMb9t",
    "outputId": "d4eb4f27-aae8-46ea-83ca-6ab52bf63322"
   },
   "outputs": [
    {
     "data": {
      "text/plain": [
       "(482, 512, 31)"
      ]
     },
     "execution_count": 49,
     "metadata": {
      "tags": []
     },
     "output_type": "execute_result"
    }
   ],
   "source": [
    "rmaee=abs(sample_y-y_pred[0])/sample_y\n",
    "rmaee.shape"
   ]
  },
  {
   "cell_type": "code",
   "execution_count": 0,
   "metadata": {
    "colab": {
     "base_uri": "https://localhost:8080/",
     "height": 34
    },
    "colab_type": "code",
    "id": "xaTGWsgGOyY_",
    "outputId": "181da60e-be8f-4bdc-c184-7e947450aca6"
   },
   "outputs": [
    {
     "data": {
      "text/plain": [
       "<matplotlib.image.AxesImage at 0x7f48415a97b8>"
      ]
     },
     "execution_count": 52,
     "metadata": {
      "tags": []
     },
     "output_type": "execute_result"
    }
   ],
   "source": [
    "plt.imshow(rmaee[0])\n",
    "# plt.show()"
   ]
  },
  {
   "cell_type": "code",
   "execution_count": 0,
   "metadata": {
    "colab": {},
    "colab_type": "code",
    "id": "-V_RDDDWQC_s"
   },
   "outputs": [],
   "source": [
    "np.save(model_save_dir+\"/abs_errs.npy\", rmaee)"
   ]
  },
  {
   "cell_type": "code",
   "execution_count": 0,
   "metadata": {
    "colab": {},
    "colab_type": "code",
    "id": "Inc9-MURQtDu"
   },
   "outputs": [],
   "source": [
    "plt.imsave(model_save_dir+'/test.png', rmaee[0])"
   ]
  }
 ],
 "metadata": {
  "accelerator": "GPU",
  "colab": {
   "collapsed_sections": [],
   "name": "rgb2hs_cnn_init_5layers_batchloading.ipynb",
   "provenance": []
  },
  "kernelspec": {
   "display_name": "Python 3",
   "language": "python",
   "name": "python3"
  },
  "language_info": {
   "codemirror_mode": {
    "name": "ipython",
    "version": 3
   },
   "file_extension": ".py",
   "mimetype": "text/x-python",
   "name": "python",
   "nbconvert_exporter": "python",
   "pygments_lexer": "ipython3",
   "version": "3.5.6"
  }
 },
 "nbformat": 4,
 "nbformat_minor": 1
}
